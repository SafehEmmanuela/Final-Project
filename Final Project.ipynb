{
 "cells": [
  {
   "cell_type": "code",
   "execution_count": 58,
   "metadata": {},
   "outputs": [],
   "source": [
    "import pandas as pd"
   ]
  },
  {
   "cell_type": "code",
   "execution_count": 59,
   "metadata": {},
   "outputs": [
    {
     "name": "stdout",
     "output_type": "stream",
     "text": [
      "     Customer_ID   Age         Region  Purchases  Total_Spend  \\\n",
      "0         1001.0  62.0         Africa       22.0       422.41   \n",
      "1            NaN  25.0         Europe       30.0          NaN   \n",
      "2         1003.0  40.0         Europe       43.0      1267.23   \n",
      "3         1004.0  33.0  North America        NaN      2004.51   \n",
      "4         1005.0  30.0           Asia        8.0          NaN   \n",
      "..           ...   ...            ...        ...          ...   \n",
      "995       1996.0  43.0         Europe        NaN      4400.79   \n",
      "996       1997.0  55.0            NaN       39.0      4084.43   \n",
      "997       1998.0  55.0         Africa       49.0      4793.37   \n",
      "998          NaN  61.0            NaN       49.0      4430.43   \n",
      "999       2000.0   NaN         Africa       12.0      4673.31   \n",
      "\n",
      "     Satisfaction_Score  Repeat_Customer  \n",
      "0                   6.0              1.0  \n",
      "1                   7.0              1.0  \n",
      "2                   2.0              NaN  \n",
      "3                   8.0              NaN  \n",
      "4                   5.0              NaN  \n",
      "..                  ...              ...  \n",
      "995                 8.0              1.0  \n",
      "996                 9.0              NaN  \n",
      "997                 NaN              1.0  \n",
      "998                 3.0              0.0  \n",
      "999                 7.0              0.0  \n",
      "\n",
      "[1000 rows x 7 columns]\n",
      "<class 'pandas.core.frame.DataFrame'>\n",
      "RangeIndex: 1000 entries, 0 to 999\n",
      "Data columns (total 7 columns):\n",
      " #   Column              Non-Null Count  Dtype  \n",
      "---  ------              --------------  -----  \n",
      " 0   Customer_ID         850 non-null    float64\n",
      " 1   Age                 850 non-null    float64\n",
      " 2   Region              850 non-null    object \n",
      " 3   Purchases           850 non-null    float64\n",
      " 4   Total_Spend         850 non-null    float64\n",
      " 5   Satisfaction_Score  850 non-null    float64\n",
      " 6   Repeat_Customer     850 non-null    float64\n",
      "dtypes: float64(6), object(1)\n",
      "memory usage: 54.8+ KB\n",
      "None\n"
     ]
    }
   ],
   "source": [
    "y= pd.read_csv(\"customer_performance.csv\")\n",
    "print(y)\n",
    "print(y.info())"
   ]
  },
  {
   "cell_type": "code",
   "execution_count": 60,
   "metadata": {},
   "outputs": [
    {
     "name": "stdout",
     "output_type": "stream",
     "text": [
      "       Customer_ID         Age   Purchases  Total_Spend  Satisfaction_Score  \\\n",
      "count   850.000000  850.000000  850.000000   850.000000          850.000000   \n",
      "mean   1499.580000   40.597647   25.894118  2538.506518            5.537647   \n",
      "std     287.655056   13.359679   13.779710  1412.680952            2.920077   \n",
      "min    1001.000000   18.000000    1.000000   107.850000            1.000000   \n",
      "25%    1251.250000   30.000000   14.000000  1394.012500            3.000000   \n",
      "50%    1503.500000   40.000000   26.000000  2548.165000            6.000000   \n",
      "75%    1746.750000   52.000000   38.000000  3786.477500            8.000000   \n",
      "max    2000.000000   64.000000   49.000000  4998.780000           10.000000   \n",
      "\n",
      "       Repeat_Customer  \n",
      "count       850.000000  \n",
      "mean          0.470588  \n",
      "std           0.499428  \n",
      "min           0.000000  \n",
      "25%           0.000000  \n",
      "50%           0.000000  \n",
      "75%           1.000000  \n",
      "max           1.000000  \n"
     ]
    }
   ],
   "source": [
    "print(y.describe())"
   ]
  },
  {
   "cell_type": "code",
   "execution_count": 61,
   "metadata": {},
   "outputs": [
    {
     "name": "stdout",
     "output_type": "stream",
     "text": [
      "Customer_ID           150\n",
      "Age                   150\n",
      "Region                150\n",
      "Purchases             150\n",
      "Total_Spend           150\n",
      "Satisfaction_Score    150\n",
      "Repeat_Customer       150\n",
      "dtype: int64\n"
     ]
    }
   ],
   "source": [
    "print(y.isnull().sum())"
   ]
  },
  {
   "cell_type": "code",
   "execution_count": 62,
   "metadata": {},
   "outputs": [
    {
     "name": "stdout",
     "output_type": "stream",
     "text": [
      "      Age         Region  Purchases  Total_Spend  Satisfaction_Score  \\\n",
      "0    62.0         Africa       22.0       422.41                 6.0   \n",
      "1    25.0         Europe       30.0          NaN                 7.0   \n",
      "2    40.0         Europe       43.0      1267.23                 2.0   \n",
      "3    33.0  North America        NaN      2004.51                 8.0   \n",
      "4    30.0           Asia        8.0          NaN                 5.0   \n",
      "..    ...            ...        ...          ...                 ...   \n",
      "995  43.0         Europe        NaN      4400.79                 8.0   \n",
      "996  55.0            NaN       39.0      4084.43                 9.0   \n",
      "997  55.0         Africa       49.0      4793.37                 NaN   \n",
      "998  61.0            NaN       49.0      4430.43                 3.0   \n",
      "999   NaN         Africa       12.0      4673.31                 7.0   \n",
      "\n",
      "     Repeat_Customer  \n",
      "0                1.0  \n",
      "1                1.0  \n",
      "2                NaN  \n",
      "3                NaN  \n",
      "4                NaN  \n",
      "..               ...  \n",
      "995              1.0  \n",
      "996              NaN  \n",
      "997              1.0  \n",
      "998              0.0  \n",
      "999              0.0  \n",
      "\n",
      "[1000 rows x 6 columns]\n",
      "\n"
     ]
    }
   ],
   "source": [
    "x=y.drop(\"Customer_ID\", axis=1)\n",
    "print(x)"
   ]
  },
  {
   "cell_type": "code",
   "execution_count": 63,
   "metadata": {},
   "outputs": [
    {
     "name": "stdout",
     "output_type": "stream",
     "text": [
      "     Customer_ID         Region  Purchases  Total_Spend  Satisfaction_Score  \\\n",
      "0         1001.0         Africa       22.0       422.41                 6.0   \n",
      "1            NaN         Europe       30.0          NaN                 7.0   \n",
      "2         1003.0         Europe       43.0      1267.23                 2.0   \n",
      "3         1004.0  North America        NaN      2004.51                 8.0   \n",
      "4         1005.0           Asia        8.0          NaN                 5.0   \n",
      "..           ...            ...        ...          ...                 ...   \n",
      "995       1996.0         Europe        NaN      4400.79                 8.0   \n",
      "996       1997.0            NaN       39.0      4084.43                 9.0   \n",
      "997       1998.0         Africa       49.0      4793.37                 NaN   \n",
      "998          NaN            NaN       49.0      4430.43                 3.0   \n",
      "999       2000.0         Africa       12.0      4673.31                 7.0   \n",
      "\n",
      "     Repeat_Customer  \n",
      "0                1.0  \n",
      "1                1.0  \n",
      "2                NaN  \n",
      "3                NaN  \n",
      "4                NaN  \n",
      "..               ...  \n",
      "995              1.0  \n",
      "996              NaN  \n",
      "997              1.0  \n",
      "998              0.0  \n",
      "999              0.0  \n",
      "\n",
      "[1000 rows x 6 columns]\n"
     ]
    }
   ],
   "source": [
    "p=y.drop(\"Age\", axis=1)\n",
    "print(p)"
   ]
  },
  {
   "cell_type": "code",
   "execution_count": 64,
   "metadata": {},
   "outputs": [],
   "source": [
    "import matplotlib.pyplot as plt"
   ]
  },
  {
   "cell_type": "code",
   "execution_count": 65,
   "metadata": {},
   "outputs": [
    {
     "data": {
      "text/plain": [
       "{'whiskers': [<matplotlib.lines.Line2D at 0x2c28391d9d0>,\n",
       "  <matplotlib.lines.Line2D at 0x2c28391c8d0>],\n",
       " 'caps': [<matplotlib.lines.Line2D at 0x2c28391cd10>,\n",
       "  <matplotlib.lines.Line2D at 0x2c28391d490>],\n",
       " 'boxes': [<matplotlib.lines.Line2D at 0x2c28391dd90>],\n",
       " 'medians': [<matplotlib.lines.Line2D at 0x2c2838fb290>],\n",
       " 'fliers': [<matplotlib.lines.Line2D at 0x2c2838f8350>],\n",
       " 'means': []}"
      ]
     },
     "execution_count": 65,
     "metadata": {},
     "output_type": "execute_result"
    },
    {
     "data": {
      "image/png": "[encoded data removed]",
      "text/plain": [
       "<Figure size 640x480 with 1 Axes>"
      ]
     },
     "metadata": {},
     "output_type": "display_data"
    }
   ],
   "source": [
    "plt.boxplot(y[\"Age\"])"
   ]
  },
  {
   "cell_type": "code",
   "execution_count": 66,
   "metadata": {},
   "outputs": [
    {
     "name": "stdout",
     "output_type": "stream",
     "text": [
      "40.597647058823526\n"
     ]
    }
   ],
   "source": [
    "mean1= y[\"Age\"].mean()\n",
    "mean2= y[\"Purchases\"].mean()\n",
    "\n",
    "print(mean1)"
   ]
  },
  {
   "cell_type": "code",
   "execution_count": 67,
   "metadata": {},
   "outputs": [
    {
     "data": {
      "text/html": [
       "<div>\n",
       "<style scoped>\n",
       "    .dataframe tbody tr th:only-of-type {\n",
       "        vertical-align: middle;\n",
       "    }\n",
       "\n",
       "    .dataframe tbody tr th {\n",
       "        vertical-align: top;\n",
       "    }\n",
       "\n",
       "    .dataframe thead th {\n",
       "        text-align: right;\n",
       "    }\n",
       "</style>\n",
       "<table border=\"1\" class=\"dataframe\">\n",
       "  <thead>\n",
       "    <tr style=\"text-align: right;\">\n",
       "      <th></th>\n",
       "      <th>Customer_ID</th>\n",
       "      <th>Age</th>\n",
       "      <th>Region</th>\n",
       "      <th>Purchases</th>\n",
       "      <th>Total_Spend</th>\n",
       "      <th>Satisfaction_Score</th>\n",
       "      <th>Repeat_Customer</th>\n",
       "    </tr>\n",
       "  </thead>\n",
       "  <tbody>\n",
       "    <tr>\n",
       "      <th>0</th>\n",
       "      <td>1001.0</td>\n",
       "      <td>62.0</td>\n",
       "      <td>Africa</td>\n",
       "      <td>22.0</td>\n",
       "      <td>422.41</td>\n",
       "      <td>6.0</td>\n",
       "      <td>1.0</td>\n",
       "    </tr>\n",
       "    <tr>\n",
       "      <th>1</th>\n",
       "      <td>NaN</td>\n",
       "      <td>25.0</td>\n",
       "      <td>Europe</td>\n",
       "      <td>30.0</td>\n",
       "      <td>NaN</td>\n",
       "      <td>7.0</td>\n",
       "      <td>1.0</td>\n",
       "    </tr>\n",
       "    <tr>\n",
       "      <th>2</th>\n",
       "      <td>1003.0</td>\n",
       "      <td>40.0</td>\n",
       "      <td>Europe</td>\n",
       "      <td>43.0</td>\n",
       "      <td>1267.23</td>\n",
       "      <td>2.0</td>\n",
       "      <td>NaN</td>\n",
       "    </tr>\n",
       "    <tr>\n",
       "      <th>3</th>\n",
       "      <td>1004.0</td>\n",
       "      <td>33.0</td>\n",
       "      <td>North America</td>\n",
       "      <td>NaN</td>\n",
       "      <td>2004.51</td>\n",
       "      <td>8.0</td>\n",
       "      <td>NaN</td>\n",
       "    </tr>\n",
       "    <tr>\n",
       "      <th>4</th>\n",
       "      <td>1005.0</td>\n",
       "      <td>30.0</td>\n",
       "      <td>Asia</td>\n",
       "      <td>8.0</td>\n",
       "      <td>NaN</td>\n",
       "      <td>5.0</td>\n",
       "      <td>NaN</td>\n",
       "    </tr>\n",
       "    <tr>\n",
       "      <th>...</th>\n",
       "      <td>...</td>\n",
       "      <td>...</td>\n",
       "      <td>...</td>\n",
       "      <td>...</td>\n",
       "      <td>...</td>\n",
       "      <td>...</td>\n",
       "      <td>...</td>\n",
       "    </tr>\n",
       "    <tr>\n",
       "      <th>995</th>\n",
       "      <td>1996.0</td>\n",
       "      <td>43.0</td>\n",
       "      <td>Europe</td>\n",
       "      <td>NaN</td>\n",
       "      <td>4400.79</td>\n",
       "      <td>8.0</td>\n",
       "      <td>1.0</td>\n",
       "    </tr>\n",
       "    <tr>\n",
       "      <th>996</th>\n",
       "      <td>1997.0</td>\n",
       "      <td>55.0</td>\n",
       "      <td>NaN</td>\n",
       "      <td>39.0</td>\n",
       "      <td>4084.43</td>\n",
       "      <td>9.0</td>\n",
       "      <td>NaN</td>\n",
       "    </tr>\n",
       "    <tr>\n",
       "      <th>997</th>\n",
       "      <td>1998.0</td>\n",
       "      <td>55.0</td>\n",
       "      <td>Africa</td>\n",
       "      <td>49.0</td>\n",
       "      <td>4793.37</td>\n",
       "      <td>NaN</td>\n",
       "      <td>1.0</td>\n",
       "    </tr>\n",
       "    <tr>\n",
       "      <th>998</th>\n",
       "      <td>NaN</td>\n",
       "      <td>61.0</td>\n",
       "      <td>NaN</td>\n",
       "      <td>49.0</td>\n",
       "      <td>4430.43</td>\n",
       "      <td>3.0</td>\n",
       "      <td>0.0</td>\n",
       "    </tr>\n",
       "    <tr>\n",
       "      <th>999</th>\n",
       "      <td>2000.0</td>\n",
       "      <td>NaN</td>\n",
       "      <td>Africa</td>\n",
       "      <td>12.0</td>\n",
       "      <td>4673.31</td>\n",
       "      <td>7.0</td>\n",
       "      <td>0.0</td>\n",
       "    </tr>\n",
       "  </tbody>\n",
       "</table>\n",
       "<p>1000 rows × 7 columns</p>\n",
       "</div>"
      ],
      "text/plain": [
       "     Customer_ID   Age         Region  Purchases  Total_Spend  \\\n",
       "0         1001.0  62.0         Africa       22.0       422.41   \n",
       "1            NaN  25.0         Europe       30.0          NaN   \n",
       "2         1003.0  40.0         Europe       43.0      1267.23   \n",
       "3         1004.0  33.0  North America        NaN      2004.51   \n",
       "4         1005.0  30.0           Asia        8.0          NaN   \n",
       "..           ...   ...            ...        ...          ...   \n",
       "995       1996.0  43.0         Europe        NaN      4400.79   \n",
       "996       1997.0  55.0            NaN       39.0      4084.43   \n",
       "997       1998.0  55.0         Africa       49.0      4793.37   \n",
       "998          NaN  61.0            NaN       49.0      4430.43   \n",
       "999       2000.0   NaN         Africa       12.0      4673.31   \n",
       "\n",
       "     Satisfaction_Score  Repeat_Customer  \n",
       "0                   6.0              1.0  \n",
       "1                   7.0              1.0  \n",
       "2                   2.0              NaN  \n",
       "3                   8.0              NaN  \n",
       "4                   5.0              NaN  \n",
       "..                  ...              ...  \n",
       "995                 8.0              1.0  \n",
       "996                 9.0              NaN  \n",
       "997                 NaN              1.0  \n",
       "998                 3.0              0.0  \n",
       "999                 7.0              0.0  \n",
       "\n",
       "[1000 rows x 7 columns]"
      ]
     },
     "execution_count": 67,
     "metadata": {},
     "output_type": "execute_result"
    }
   ],
   "source": [
    "y[\"Age\"].fillna(mean1)\n",
    "y[\"Purchases\"].fillna(mean2)\n",
    "y"
   ]
  },
  {
   "cell_type": "code",
   "execution_count": null,
   "metadata": {},
   "outputs": [],
   "source": []
  }
 ],
 "metadata": {
  "kernelspec": {
   "display_name": "Python 3",
   "language": "python",
   "name": "python3"
  },
  "language_info": {
   "codemirror_mode": {
    "name": "ipython",
    "version": 3
   },
   "file_extension": ".py",
   "mimetype": "text/x-python",
   "name": "python",
   "nbconvert_exporter": "python",
   "pygments_lexer": "ipython3",
   "version": "3.11.9"
  }
 },
 "nbformat": 4,
 "nbformat_minor": 2
}
